{
 "cells": [
  {
   "cell_type": "code",
   "execution_count": 9,
   "id": "f7313a86",
   "metadata": {},
   "outputs": [],
   "source": [
    "import pandas as pd\n",
    "\n",
    "train_df = pd.read_csv(\"../data/raw/Training/training_labels.csv\")\n",
    "val_df = pd.read_csv(\"../data/raw/Validation/validation_labels.csv\")\n",
    "test_df = pd.read_csv(\"../data/raw/Testing/testing_labels.csv\")"
   ]
  },
  {
   "cell_type": "code",
   "execution_count": 10,
   "id": "b8802f7c",
   "metadata": {},
   "outputs": [],
   "source": [
    "train_df['image_path'] = \"../data/raw/Training/training_words/\" + train_df['IMAGE']\n",
    "val_df['image_path'] = \"../data/raw/Validation/validation_words/\" + val_df['IMAGE']\n",
    "test_df['image_path'] = \"../data/raw/Testing/testing_words/\" + test_df['IMAGE']"
   ]
  },
  {
   "cell_type": "code",
   "execution_count": 11,
   "id": "2f1531b0",
   "metadata": {},
   "outputs": [],
   "source": [
    "import sys\n",
    "import os\n",
    "\n",
    "sys.path.append(os.path.abspath('../src'))"
   ]
  },
  {
   "cell_type": "code",
   "execution_count": 13,
   "id": "234fd652",
   "metadata": {},
   "outputs": [],
   "source": [
    "from cleaning import process_images\n",
    "\n",
    "process_images(train_df,'../data/cleaned/training')\n",
    "process_images(test_df,'../data/cleaned/testing')\n",
    "process_images(val_df,'../data/cleaned/validation')"
   ]
  }
 ],
 "metadata": {
  "kernelspec": {
   "display_name": "TF",
   "language": "python",
   "name": "python3"
  },
  "language_info": {
   "codemirror_mode": {
    "name": "ipython",
    "version": 3
   },
   "file_extension": ".py",
   "mimetype": "text/x-python",
   "name": "python",
   "nbconvert_exporter": "python",
   "pygments_lexer": "ipython3",
   "version": "3.10.13"
  }
 },
 "nbformat": 4,
 "nbformat_minor": 5
}
