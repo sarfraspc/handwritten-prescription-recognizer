{
 "cells": [
  {
   "cell_type": "code",
   "execution_count": 22,
   "id": "be8366da",
   "metadata": {},
   "outputs": [],
   "source": [
    "import pandas as pd\n",
    "\n",
    "train_df = pd.read_csv(\"../data/raw/Training/training_labels.csv\")\n",
    "val_df = pd.read_csv(\"../data/raw/Validation/validation_labels.csv\")"
   ]
  },
  {
   "cell_type": "code",
   "execution_count": 23,
   "id": "abf6a625",
   "metadata": {},
   "outputs": [],
   "source": [
    "import sys\n",
    "import os\n",
    "\n",
    "sys.path.append(os.path.abspath('../src'))"
   ]
  },
  {
   "cell_type": "code",
   "execution_count": 26,
   "id": "dbb57641",
   "metadata": {},
   "outputs": [
    {
     "name": "stdout",
     "output_type": "stream",
     "text": [
      "character map saved at ../data/char_map.json\n"
     ]
    }
   ],
   "source": [
    "from char_map import create_char_map\n",
    "\n",
    "all_texts = list(train_df['MEDICINE_NAME']) + list(train_df['GENERIC_NAME']) + \\\n",
    "            list(val_df['MEDICINE_NAME']) + list(val_df['GENERIC_NAME'])\n",
    "\n",
    "char_map = create_char_map(all_texts, save_path='../data/char_map.json')"
   ]
  }
 ],
 "metadata": {
  "kernelspec": {
   "display_name": "TF",
   "language": "python",
   "name": "python3"
  },
  "language_info": {
   "codemirror_mode": {
    "name": "ipython",
    "version": 3
   },
   "file_extension": ".py",
   "mimetype": "text/x-python",
   "name": "python",
   "nbconvert_exporter": "python",
   "pygments_lexer": "ipython3",
   "version": "3.10.13"
  }
 },
 "nbformat": 4,
 "nbformat_minor": 5
}
